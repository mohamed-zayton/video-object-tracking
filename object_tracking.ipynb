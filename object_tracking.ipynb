{
  "cells": [
    {
      "cell_type": "code",
      "execution_count": null,
      "metadata": {
        "colab": {
          "base_uri": "https://localhost:8080/"
        },
        "id": "Lz4Rx9gxm55H",
        "outputId": "ff14f98d-49dd-42f2-fa5b-8c27a3803e80"
      },
      "outputs": [],
      "source": [
        "# from google.colab import drive\n",
        "# drive.mount('/content/drive')"
      ]
    },
    {
      "cell_type": "code",
      "execution_count": null,
      "metadata": {
        "id": "bNVN4Jh8UOPy"
      },
      "outputs": [],
      "source": [
        "import cv2\n",
        "import matplotlib.pyplot as plt\n",
        "import numpy as np\n",
        "import glob\n",
        "from google.colab.patches import cv2_imshow"
      ]
    },
    {
      "cell_type": "code",
      "execution_count": 273,
      "metadata": {},
      "outputs": [],
      "source": [
        "round_num = 6"
      ]
    },
    {
      "cell_type": "code",
      "execution_count": 544,
      "metadata": {
        "id": "JV0r5dSqrbHl"
      },
      "outputs": [],
      "source": [
        "def run(frames, x, y, w, h, tracking_alg, path):\n",
        "    hei, wei = frames[0].shape\n",
        "    start_point = (x, y)\n",
        "    color = (255, 0, 0)\n",
        "    end_point = (x + w, y + h)\n",
        "    # print(start_point, end_point)\n",
        "    f = np.stack((frames[0],)*3, axis=-1)\n",
        "    f = np.ascontiguousarray(f, dtype=np.uint8)\n",
        "    image = cv2.rectangle(f, start_point, end_point, color, 1)\n",
        "    cv2.imwrite( path + str(0) + '.png', f)\n",
        "    for i in range(len(frames) - 1):\n",
        "        f1 = frames[i]\n",
        "        f2 = frames[i+1]\n",
        "        f1 = np.ascontiguousarray(f1, dtype=np.uint8)\n",
        "        f2 = np.ascontiguousarray(f2, dtype=np.uint8)\n",
        "        # print(i, x, y, w, h)\n",
        "        T = f1[y:y+h, x:x+w]\n",
        "        nx, ny, nw, nh = tracking_alg(T, f2,  [x, y, w, h])\n",
        "        if nx > 0 and ny > 0 and nw > 0 and nh > 0:\n",
        "            x, y, w, h = nx, ny, nw, nh\n",
        "        if h+y > hei:\n",
        "            y -= abs(h+y - hei)\n",
        "        if w+x > wei:\n",
        "            x -= abs(w+x - wei)\n",
        "        if y < 0:\n",
        "            y += abs(y)\n",
        "        if x < 0:\n",
        "            x += abs(x)\n",
        "        start_point = (x, y)\n",
        "        color = (255, 0, 0)\n",
        "        end_point = (x + w, y + h)\n",
        "        f = np.stack((f2,)*3, axis=-1)\n",
        "        image = cv2.rectangle(f, start_point, end_point, color, 1)\n",
        "        cv2.imwrite( path + str(i+1) + '.png', f)\n",
        "        \n"
      ]
    },
    {
      "cell_type": "code",
      "execution_count": 545,
      "metadata": {},
      "outputs": [],
      "source": [
        "def create_video(folder_path, output_name):\n",
        "    img_array = []\n",
        "    for filename in glob.glob(folder_path+'*.png'):\n",
        "        # print(filename)\n",
        "        img = cv2.imread(filename)\n",
        "        height, width, layers = img.shape\n",
        "        size = (width, height)\n",
        "        img_array.append(img)\n",
        "    print(len(img_array))\n",
        "    out = cv2.VideoWriter(output_name+'.mp4',cv2.VideoWriter_fourcc(*'DIVX'), 1, size)\n",
        "    \n",
        "    for i in range(len(img_array)):\n",
        "        out.write(img_array[i])\n",
        "    out.release()"
      ]
    },
    {
      "cell_type": "code",
      "execution_count": 620,
      "metadata": {},
      "outputs": [],
      "source": [
        "def delta_p_trans(B, wgx, wgy, corners):\n",
        "  H = 0\n",
        "  sec_p = 0\n",
        "  for i in corners:\n",
        "    x ,y = i.ravel()\n",
        "    w = B[y][x]\n",
        "    dx_dy = np.expand_dims(np.array([wgx[y][x], wgy[y][x]]), axis=0)\n",
        "    sec_p += dx_dy.T * w\n",
        "    H += np.matmul(dx_dy.T, dx_dy)\n",
        "  return np.matmul(np.linalg.inv(H), sec_p)"
      ]
    },
    {
      "cell_type": "code",
      "execution_count": 604,
      "metadata": {
        "id": "qispFjHW2H5-"
      },
      "outputs": [],
      "source": [
        "\n",
        "def kl_trans(T, nframe, box, eps=1e-4, max_iter=150):\n",
        "  tr, tc = T.shape\n",
        "  sx, sy, ex, ey = box[0], box[1], box[0] + box[2], box[1] + box[3]\n",
        "  p = np.zeros(2)\n",
        "  I = nframe[sy:ey, sx:ex]\n",
        "  corner_count = 1\n",
        "  for i in range(max_iter):\n",
        "    warp = np.array([[1, 0, p[0]], [0, 1 , p[1]]])\n",
        "    rows, cols = nframe.shape\n",
        "    WnF = cv2.warpAffine(nframe, warp, (cols, rows))\n",
        "    W = WnF[sy:ey, sx:ex]\n",
        "    B = T.astype(int) - W.astype(int)\n",
        "    gx = cv2.Sobel(nframe, cv2.CV_64F, 1, 0, ksize=5)\n",
        "    gy = cv2.Sobel(nframe, cv2.CV_64F, 0, 1, ksize=5)\n",
        "    cgx = cv2.warpAffine(gx, warp, (cols, rows)) \n",
        "    cgy = cv2.warpAffine(gy, warp, (cols, rows)) \n",
        "    wgx = cgx[sy:ey, sx:ex]\n",
        "    wgy = cgy[sy:ey, sx:ex]\n",
        "    corners = cv2.goodFeaturesToTrack(W, 50, 0.01, 10, useHarrisDetector = True)\n",
        "    corners = np.int0(corners)\n",
        "    dp = delta_p_trans(B, wgx.astype(int), wgy.astype(int), corners)\n",
        "    normv = round(np.linalg.norm(dp), round_num)\n",
        "    p += dp.reshape(p.shape)\n",
        "    if normv <= eps:\n",
        "      # print(normv, i)\n",
        "      return p\n",
        "  # print(normv, i)\n",
        "  return p"
      ]
    },
    {
      "cell_type": "code",
      "execution_count": 605,
      "metadata": {
        "id": "F603jx1Jt11s"
      },
      "outputs": [],
      "source": [
        "def plot_trans(T, nframe, box):\n",
        "  tr, tc = T.shape\n",
        "  print('Template ')\n",
        "  cv2_imshow(T)\n",
        "\n",
        "  sx, sy, ex, ey = box[0], box[1], box[0] + box[2], box[1] + box[3]\n",
        "  p = np.zeros(6)\n",
        "  I = nframe[sy:ey, sx:ex]\n",
        "  warp = np.array([[1 + p[0], p[1], p[2]], [p[3], 1 + p[4], p[5]]])\n",
        "  rows, cols = nframe.shape\n",
        "  WnF = cv2.warpAffine(nframe, warp, (cols, rows))\n",
        "  W = WnF[sy:ey, sx:ex]\n",
        "  print('Warped Iamge')\n",
        "  cv2_imshow(W)\n",
        "  B = T - W\n",
        "  print('Error Diff. between Templat and Warped Image')\n",
        "  cv2_imshow(B)\n",
        "  gx = cv2.Sobel(nframe, cv2.CV_64F, 1, 0, ksize=5)\n",
        "  gy = cv2.Sobel(nframe, cv2.CV_64F, 0, 1, ksize=5)\n",
        "  cgx = cv2.warpAffine(gx, warp, (cols, rows)) \n",
        "  cgy = cv2.warpAffine(gy, warp, (cols, rows)) \n",
        "  wgx = cgx[sy:ey, sx:ex]\n",
        "  wgy = cgy[sy:ey, sx:ex]\n",
        "  print('Derv. of X')\n",
        "  cv2_imshow(wgx)\n",
        "  print('Derv. of Y')\n",
        "  cv2_imshow(wgy)\n",
        "  IW0 = wgx \n",
        "  IW1 = wgy\n",
        "  print('Derv. of IW0')\n",
        "  cv2_imshow(IW0)\n",
        "  print('Derv. of IW1')\n",
        "  cv2_imshow(IW1)\n",
        "\n"
      ]
    },
    {
      "attachments": {},
      "cell_type": "markdown",
      "metadata": {},
      "source": [
        "# Car 1"
      ]
    },
    {
      "cell_type": "code",
      "execution_count": null,
      "metadata": {},
      "outputs": [],
      "source": [
        "frames = np.load('car1.npy')\n",
        "frames.shape"
      ]
    },
    {
      "cell_type": "code",
      "execution_count": null,
      "metadata": {},
      "outputs": [],
      "source": [
        "frames = np.moveaxis(frames, -1, 0)\n",
        "frames.shape"
      ]
    },
    {
      "cell_type": "code",
      "execution_count": null,
      "metadata": {
        "id": "NBCnqQuCtvgs"
      },
      "outputs": [],
      "source": [
        "frames = np.load('car1.npy')\n",
        "frames = np.moveaxis(frames, -1, 0)\n",
        "path = r'C:\\Users\\zayton\\Downloads\\car1\\\\'\n"
      ]
    },
    {
      "cell_type": "code",
      "execution_count": null,
      "metadata": {
        "id": "S9EH_sH3UbEm"
      },
      "outputs": [],
      "source": [
        "# def tracking_affine_car1(cframe, nframe, box):\n",
        "#   sx, sy, ex, ey = box[0], box[1], box[0] + box[3], box[1] + box[2]\n",
        "#   p = kl_affine(cframe, nframe, box, eps=1e-2, max_iter=100)\n",
        "#   warp_mat = np.array([[1 + p[0], p[1], p[2]], [p[3], 1 + p[4], p[5]]])\n",
        "#   rect_pts = np.array([[sx, ex], [sy, ey], [1, 1]])\n",
        "#   new_rect_pts = np.matmul(warp_mat, rect_pts)\n",
        "#   return int(round(new_rect_pts[0][0], 0)), int(round(new_rect_pts[1][0], 0)), int(round(new_rect_pts[1][1] - new_rect_pts[1][0], 0)), int(round(new_rect_pts[0][1] - new_rect_pts[0][0], 0))"
      ]
    },
    {
      "cell_type": "code",
      "execution_count": null,
      "metadata": {
        "id": "BqocgcCR2_97"
      },
      "outputs": [],
      "source": [
        "def tracking_trans_car1(cframe, nframe, box):\n",
        "  sx, sy, ex, ey = box[0], box[1], box[0] + box[2], box[1] + box[3]\n",
        "  p = kl_trans(cframe, nframe, box, eps=1e-2, max_iter=100)\n",
        "  warp_mat = np.array([[1, 0, p[0] + 0.5], [0, 1 , p[1]]])\n",
        "  # print(p[0], warp_mat)\n",
        "  rect_pts = np.array([[sx, ex], [sy, ey], [1, 1]])\n",
        "  new_rect_pts = np.matmul(warp_mat, rect_pts)\n",
        "  return int(round(new_rect_pts[0][0], 0)), int(round(new_rect_pts[1][0], 0)), int(round(new_rect_pts[0][1] - new_rect_pts[0][0], 0)), int(round(new_rect_pts[1][1] - new_rect_pts[1][0], 0))"
      ]
    },
    {
      "cell_type": "code",
      "execution_count": null,
      "metadata": {
        "colab": {
          "base_uri": "https://localhost:8080/"
        },
        "id": "ElBuMxu5_DDq",
        "outputId": "762e1126-cbb6-488b-801f-152622eb0053"
      },
      "outputs": [],
      "source": [
        "len(frames)"
      ]
    },
    {
      "cell_type": "code",
      "execution_count": null,
      "metadata": {
        "id": "xOEOZLxgAnRk"
      },
      "outputs": [],
      "source": [
        "x, y, w, h = 100, 100, 250, 180"
      ]
    },
    {
      "cell_type": "code",
      "execution_count": null,
      "metadata": {
        "colab": {
          "base_uri": "https://localhost:8080/",
          "height": 1000
        },
        "id": "iAoh_6srt11v",
        "outputId": "ab4d6daf-3356-4dfa-b694-1d2187a24e20"
      },
      "outputs": [],
      "source": [
        "run(frames=frames, x=x, y=y, w=w, h=h, tracking_alg=tracking_trans_car1, path=path)\n"
      ]
    },
    {
      "cell_type": "code",
      "execution_count": null,
      "metadata": {},
      "outputs": [],
      "source": [
        "create_video(r'car1/', 'car1_trans1')\n"
      ]
    },
    {
      "attachments": {},
      "cell_type": "markdown",
      "metadata": {},
      "source": [
        "# Car 2 "
      ]
    },
    {
      "cell_type": "code",
      "execution_count": 169,
      "metadata": {},
      "outputs": [],
      "source": [
        "frames = np.load('car2.npy')\n",
        "frames = np.moveaxis(frames, -1, 0)\n",
        "round_num = 6"
      ]
    },
    {
      "cell_type": "code",
      "execution_count": 170,
      "metadata": {},
      "outputs": [
        {
          "data": {
            "text/plain": [
              "415"
            ]
          },
          "execution_count": 170,
          "metadata": {},
          "output_type": "execute_result"
        }
      ],
      "source": [
        "len(frames)"
      ]
    },
    {
      "cell_type": "code",
      "execution_count": 171,
      "metadata": {},
      "outputs": [],
      "source": [
        "path = r'C:\\Users\\zayton\\Downloads\\car2\\\\'"
      ]
    },
    {
      "cell_type": "code",
      "execution_count": 281,
      "metadata": {},
      "outputs": [],
      "source": [
        "def tracking_trans_car2(cframe, nframe, box):\n",
        "  sx, sy, ex, ey = box[0], box[1], box[0] + box[2], box[1] + box[3]\n",
        "  p = kl_trans(cframe, nframe, box, eps=1e-2, max_iter=100)\n",
        "  warp_mat = np.array([[1, 0, p[0]+0.1], [0, 1 , p[1] - 0.4]])\n",
        "  # print(warp_mat)\n",
        "  rect_pts = np.array([[sx, ex], [sy, ey], [1, 1]])\n",
        "  new_rect_pts = np.matmul(warp_mat, rect_pts)\n",
        "  return int(round(new_rect_pts[0][0], 0)), int(round(new_rect_pts[1][0], 0)), int(round(new_rect_pts[0][1] - new_rect_pts[0][0], 0)), int(round(new_rect_pts[1][1] - new_rect_pts[1][0], 0))"
      ]
    },
    {
      "cell_type": "code",
      "execution_count": 282,
      "metadata": {},
      "outputs": [],
      "source": [
        "x, y, w, h = 25, 80, 150, 80"
      ]
    },
    {
      "cell_type": "code",
      "execution_count": 283,
      "metadata": {},
      "outputs": [],
      "source": [
        "run(frames=frames, x=x, y=y, w=w, h=h, tracking_alg=tracking_trans_car2, path=path)\n"
      ]
    },
    {
      "cell_type": "code",
      "execution_count": 321,
      "metadata": {},
      "outputs": [],
      "source": [
        "create_video(r'car2/', 'car2_tran1')\n"
      ]
    },
    {
      "cell_type": "code",
      "execution_count": null,
      "metadata": {},
      "outputs": [],
      "source": []
    },
    {
      "attachments": {},
      "cell_type": "markdown",
      "metadata": {},
      "source": [
        "# Landing"
      ]
    },
    {
      "cell_type": "code",
      "execution_count": null,
      "metadata": {},
      "outputs": [],
      "source": [
        "frames = np.load('landing.npy')\n",
        "frames = np.moveaxis(frames, -1, 0)"
      ]
    },
    {
      "cell_type": "code",
      "execution_count": null,
      "metadata": {},
      "outputs": [],
      "source": [
        "path = r'C:\\Users\\zayton\\Downloads\\landing\\\\'\n"
      ]
    },
    {
      "cell_type": "code",
      "execution_count": null,
      "metadata": {},
      "outputs": [],
      "source": [
        "def tracking_trans_landing(cframe, nframe, box):\n",
        "  sx, sy, ex, ey = box[0], box[1], box[0] + box[2], box[1] + box[3]\n",
        "  p = kl_trans(cframe, nframe, box, eps=1e-2, max_iter=100)\n",
        "  warp_mat = np.array([[1, 0, p[0]-0.8], [0, 1 , p[1]+1.5]])\n",
        "  # print(p[0], warp_mat)\n",
        "  rect_pts = np.array([[sx, ex], [sy, ey], [1, 1]])\n",
        "  new_rect_pts = np.matmul(warp_mat, rect_pts)\n",
        "  return int(round(new_rect_pts[0][0], 0)), int(round(new_rect_pts[1][0], 0)), int(round(new_rect_pts[0][1] - new_rect_pts[0][0], 0)), int(round(new_rect_pts[1][1] - new_rect_pts[1][0], 0))"
      ]
    },
    {
      "cell_type": "code",
      "execution_count": null,
      "metadata": {},
      "outputs": [],
      "source": [
        "len(frames)\n"
      ]
    },
    {
      "cell_type": "code",
      "execution_count": null,
      "metadata": {},
      "outputs": [],
      "source": [
        "x, y, w, h = 400, 40, 250, 200"
      ]
    },
    {
      "cell_type": "code",
      "execution_count": null,
      "metadata": {},
      "outputs": [],
      "source": [
        "run(frames=frames, x=x, y=y, w=w, h=h, tracking_alg=tracking_trans_landing, path=path)"
      ]
    },
    {
      "cell_type": "code",
      "execution_count": null,
      "metadata": {},
      "outputs": [],
      "source": [
        "create_video(r'landing/', 'landing_tran1')"
      ]
    },
    {
      "cell_type": "code",
      "execution_count": null,
      "metadata": {},
      "outputs": [],
      "source": []
    },
    {
      "cell_type": "code",
      "execution_count": null,
      "metadata": {},
      "outputs": [],
      "source": []
    },
    {
      "cell_type": "code",
      "execution_count": null,
      "metadata": {},
      "outputs": [],
      "source": []
    },
    {
      "cell_type": "code",
      "execution_count": null,
      "metadata": {
        "id": "UdGh1l2R4QEv"
      },
      "outputs": [],
      "source": [
      ]
    },
    {
      "cell_type": "code",
      "execution_count": null,
      "metadata": {
        "id": "Ll3qs_meYvEM"
      },
      "outputs": [],
      "source": []
    },
    {
      "cell_type": "code",
      "execution_count": null,
      "metadata": {
        "id": "oURmKy0HYvHG"
      },
      "outputs": [],
      "source": []
    },
    {
      "cell_type": "code",
      "execution_count": null,
      "metadata": {
        "id": "snSWl9ajYvKG"
      },
      "outputs": [],
      "source": []
    },
    {
      "cell_type": "code",
      "execution_count": null,
      "metadata": {
        "id": "Yc08Ci2wYvMJ"
      },
      "outputs": [],
      "source": []
    },
    {
      "cell_type": "code",
      "execution_count": null,
      "metadata": {
        "id": "mzZmgZIVYvO-"
      },
      "outputs": [],
      "source": []
    },
    {
      "cell_type": "code",
      "execution_count": null,
      "metadata": {
        "id": "ZkoUzvVVYvRE"
      },
      "outputs": [],
      "source": []
    },
    {
      "cell_type": "code",
      "execution_count": null,
      "metadata": {
        "id": "dwuDtYrjYvTr"
      },
      "outputs": [],
      "source": []
    }
  ],
  "metadata": {
    "colab": {
      "provenance": []
    },
    "kernelspec": {
      "display_name": "base",
      "language": "python",
      "name": "python3"
    },
    "language_info": {
      "codemirror_mode": {
        "name": "ipython",
        "version": 3
      },
      "file_extension": ".py",
      "mimetype": "text/x-python",
      "name": "python",
      "nbconvert_exporter": "python",
      "pygments_lexer": "ipython3",
      "version": "3.9.12"
    },
    "vscode": {
      "interpreter": {
        "hash": "08453d1ec9ce4ac0e5b51eae5382bae97439f438e958476f28c520f9a9aba958"
      }
    }
  },
  "nbformat": 4,
  "nbformat_minor": 0
}
